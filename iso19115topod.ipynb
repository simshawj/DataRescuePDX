{
 "cells": [
  {
   "cell_type": "markdown",
   "metadata": {},
   "source": [
    "Converts from ISO19115 to the Project Open Data Metadata format for NASA JPL PO.DAAC"
   ]
  },
  {
   "cell_type": "code",
   "execution_count": null,
   "metadata": {
    "collapsed": true
   },
   "outputs": [],
   "source": [
    "from lxml import etree"
   ]
  },
  {
   "cell_type": "code",
   "execution_count": null,
   "metadata": {
    "collapsed": false
   },
   "outputs": [],
   "source": [
    "def define_iso19115_entities():\n",
    "    entities = {}\n",
    "    entities['title'] = \".//gmd:identificationInfo/gmd:MD_DataIdentification/gmd:citation/gmd:CI_Citation/gmd:title/gco:CharacterString\"\n",
    "    entities['description'] = \".//gmd:identificationInfo/gmd:MD_DataIdentification/gmd:abstract/gco:CharacterString\"\n",
    "    entities['keyword'] = \".//gmd:descriptiveKeywords/gmd:MD_Keywords/gmd:keyword/gco:CharacterString\"\n",
    "    entities['modified'] = './/gmd:identificationInfo/gmd:MD_DataIdentification/gmd:citation/gmd:CI_Citation/gmd:date/gmd:CI_Date/gmd:date/gco:Date'\n",
    "    entities['publisher'] = {}\n",
    "    #TODO: Doublecheck this tag\n",
    "    entities['publisher']['name'] = \".//gmd:identificationInfo/gmd:MD_DataIdentification/gmd:citation/gmd:CI_Citation/gmd:citedResponsibleParty/gmd:CI_ResponsibleParty/gmd:organisationName/gco:CharacterString\"\n",
    "    entities['contactPoint'] = {}\n",
    "    entities['contactPoint']['fn'] = \".//gmd:identificationInfo/gmd:MD_DataIdentification/gmd:pointOfContact/gmd:CI_ResponsibleParty/gmd:individualName/gco:CharacterString\"\n",
    "    entities['contactPoint']['hasEmail'] = \".//gmd:CI_ResponsibleParty/gmd:contactInfo/gmd:CI_Contact/gmd:address/gmd:CI_Address/gmd:electronicMailAddress/gco:CharacterString\"\n",
    "    entities['identifier'] = \".//gmd:fileIdentifier\"\n",
    "       \n",
    "    return entities"
   ]
  },
  {
   "cell_type": "code",
   "execution_count": null,
   "metadata": {
    "collapsed": false
   },
   "outputs": [],
   "source": [
    "def convert(xmlstring):\n",
    "    result = {}\n",
    "    entities = define_iso19115_entities()\n",
    "    root = etree.XML(xmlstring)\n",
    "    for key, value in entities.items():\n",
    "        if isinstance(value, str):\n",
    "            nodes = root.findall(value, root.nsmap)\n",
    "            result[key] = nodes[0].text\n",
    "        elif isinstance(value, dict):\n",
    "            entry = {}\n",
    "            for key2, value2 in value.items():\n",
    "                if isinstance(value2, str):\n",
    "                    nodes = root.findall(value2, root.nsmap)\n",
    "                    entry[key2] = nodes[0].text\n",
    "                else:\n",
    "                    pass\n",
    "            result[key] = entry\n",
    "        else:\n",
    "            pass\n",
    "    return result"
   ]
  },
  {
   "cell_type": "code",
   "execution_count": null,
   "metadata": {
    "collapsed": true
   },
   "outputs": [],
   "source": [
    "# May not be necessary, may have been working with an improperly downloaded xml file\n",
    "def fixxml(brokenxml):\n",
    "    fixedxml = '''<gmd\t\n",
    "\txmlns:xsi=\"http://www.w3.org/2001/XMLSchema-instance\" \n",
    "\txsi:schemaLocation=\"http://www.isotc211.org/2005/gmi https://cdn.earthdata.nasa.gov/iso/schema/1.0/ISO19115-2_EOS.xsd\" \n",
    "\txmlns:xlink=\"http://www.w3.org/1999/xlink\" \n",
    "\txmlns:gco=\"http://www.isotc211.org/2005/gco\" \n",
    "\txmlns:gmd=\"http://www.isotc211.org/2005/gmd\" \n",
    "\txmlns:gmx=\"http://www.isotc211.org/2005/gmx\" \n",
    "\txmlns:gml=\"http://www.opengis.net/gml/3.2\" \n",
    "\txmlns:gss=\"http://www.isotc211.org/2005/gss\" \n",
    "\txmlns:gts=\"http://www.isotc211.org/2005/gts\" \n",
    "\txmlns:gsr=\"http://www.isotc211.org/2005/gsr\" \n",
    "\txmlns:gmi=\"http://www.isotc211.org/2005/gmi\" \n",
    "\txmlns:srv=\"http://www.isotc211.org/2005/srv\">''' + brokenxml + \"</gmd>\"\n",
    "    return fixedxml"
   ]
  }
 ],
 "metadata": {
  "kernelspec": {
   "display_name": "Python 3",
   "language": "python",
   "name": "python3"
  },
  "language_info": {
   "codemirror_mode": {
    "name": "ipython",
    "version": 3
   },
   "file_extension": ".py",
   "mimetype": "text/x-python",
   "name": "python",
   "nbconvert_exporter": "python",
   "pygments_lexer": "ipython3",
   "version": "3.6.0"
  }
 },
 "nbformat": 4,
 "nbformat_minor": 2
}
