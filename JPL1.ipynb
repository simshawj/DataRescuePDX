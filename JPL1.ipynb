{
 "cells": [
  {
   "cell_type": "code",
   "execution_count": null,
   "metadata": {
    "collapsed": true
   },
   "outputs": [],
   "source": [
    "from lxml import html\n",
    "import requests"
   ]
  },
  {
   "cell_type": "markdown",
   "metadata": {},
   "source": [
    "Get list of all datasets from PO.DAAC at JPL using the max items of 400 per request and running until we get a response containing less than 400 entries"
   ]
  },
  {
   "cell_type": "code",
   "execution_count": null,
   "metadata": {
    "collapsed": false
   },
   "outputs": [],
   "source": [
    "iteration = 0\n",
    "items_per_iteration = 400\n",
    "entry_list = []\n",
    "while True:\n",
    "    response = requests.get(\"https://podaac.jpl.nasa.gov/ws/search/dataset/?startIndex=\" + str(iteration * items_per_iteration) + \"&itemsPerPage=\" + str(items_per_iteration) + \"&format=html\")\n",
    "    html_tree = html.fromstring(response.content)\n",
    "    entries = html_tree.cssselect(\"div.entry\")\n",
    "    entry_list += entries\n",
    "    if len(entries) < items_per_iteration:\n",
    "        break\n",
    "    iteration += 1"
   ]
  },
  {
   "cell_type": "markdown",
   "metadata": {},
   "source": [
    "Creates a list of datasets and their storage location"
   ]
  },
  {
   "cell_type": "code",
   "execution_count": null,
   "metadata": {
    "collapsed": false,
    "scrolled": true
   },
   "outputs": [],
   "source": [
    "ftps = []\n",
    "unknowns = []\n",
    "for entry in entry_list:\n",
    "    found = False\n",
    "    links = entry.cssselect(\"div.links\")\n",
    "    for link in links:\n",
    "        for child in link.getchildren():\n",
    "            if \"FTP URL\" in child.text:\n",
    "                found = True\n",
    "                ftps.append({\"dataset\" : entry.getchildren()[0].text, \"url\" : child.attrib['href']})\n",
    "    if not found:\n",
    "        unknowns.append(entry.getchildren()[0].text)"
   ]
  },
  {
   "cell_type": "code",
   "execution_count": null,
   "metadata": {
    "collapsed": false
   },
   "outputs": [],
   "source": [
    "unknowns"
   ]
  },
  {
   "cell_type": "code",
   "execution_count": null,
   "metadata": {
    "collapsed": false
   },
   "outputs": [],
   "source": [
    "ftps"
   ]
  },
  {
   "cell_type": "markdown",
   "metadata": {},
   "source": [
    "Go to each url and crawl through the data for files (Still working on this)"
   ]
  },
  {
   "cell_type": "code",
   "execution_count": null,
   "metadata": {
    "collapsed": false
   },
   "outputs": [],
   "source": [
    "from ftplib import FTP\n",
    "from urllib.parse import urlparse"
   ]
  },
  {
   "cell_type": "code",
   "execution_count": null,
   "metadata": {
    "collapsed": false,
    "scrolled": true
   },
   "outputs": [],
   "source": [
    "parsed = urlparse(ftps[0]['url'])"
   ]
  },
  {
   "cell_type": "code",
   "execution_count": null,
   "metadata": {
    "collapsed": false
   },
   "outputs": [],
   "source": [
    "ftp = FTP(parsed.netloc)\n",
    "ftp.login()"
   ]
  },
  {
   "cell_type": "code",
   "execution_count": null,
   "metadata": {
    "collapsed": true
   },
   "outputs": [],
   "source": [
    "def traverse_ftp_directory(ftp, directory):\n",
    "    current_directory = ftp.pwd()\n",
    "    files = []\n",
    "    try:\n",
    "        #If directory is a directory change to it otherwise throws an Exception because it is a file\n",
    "        ftp.cwd(directory)\n",
    "        items = ftp.nlst()\n",
    "        for item in items:\n",
    "            files += traverse_ftp_directory(ftp, directory + \"/\" + item)\n",
    "        return files\n",
    "    except Exception:\n",
    "        return [directory]"
   ]
  },
  {
   "cell_type": "code",
   "execution_count": null,
   "metadata": {
    "collapsed": false
   },
   "outputs": [],
   "source": [
    "traverse_ftp_directory(ftp, \"/allData/ghrsst/data/L2P/TMI/REMSS\")"
   ]
  },
  {
   "cell_type": "markdown",
   "metadata": {},
   "source": [
    "Testing some ideas"
   ]
  },
  {
   "cell_type": "code",
   "execution_count": null,
   "metadata": {
    "collapsed": false
   },
   "outputs": [],
   "source": [
    "files = []\n",
    "try:\n",
    "    ftp.cwd(\"/allData/ghrsst/data/L2P/TMI/REMSS/\")\n",
    "    items = ftp.nlst()\n",
    "    for item in items:\n",
    "        files += [\"/allData/ghrsst/data/L2P/TMI/REMSS\" + \"/\" + item]\n",
    "except Exception:\n",
    "    print(\"Done\")"
   ]
  },
  {
   "cell_type": "code",
   "execution_count": null,
   "metadata": {
    "collapsed": false
   },
   "outputs": [],
   "source": [
    "files"
   ]
  },
  {
   "cell_type": "code",
   "execution_count": null,
   "metadata": {
    "collapsed": true
   },
   "outputs": [],
   "source": []
  }
 ],
 "metadata": {
  "kernelspec": {
   "display_name": "Python 3",
   "language": "python",
   "name": "python3"
  },
  "language_info": {
   "codemirror_mode": {
    "name": "ipython",
    "version": 3
   },
   "file_extension": ".py",
   "mimetype": "text/x-python",
   "name": "python",
   "nbconvert_exporter": "python",
   "pygments_lexer": "ipython3",
   "version": "3.6.0"
  }
 },
 "nbformat": 4,
 "nbformat_minor": 2
}
